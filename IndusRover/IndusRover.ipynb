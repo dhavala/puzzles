{
 "cells": [
  {
   "cell_type": "code",
   "execution_count": null,
   "metadata": {
    "collapsed": false,
    "deletable": true,
    "editable": true
   },
   "outputs": [],
   "source": [
    "using JuMP\n",
    "using Clp\n",
    "\n",
    "m = Model(solver = ClpSolver())\n",
    "@variable(m, 0 <= x <= 2 )\n",
    "@variable(m, 0 <= y <= 30 )\n",
    "\n",
    "@objective(m, Max, 5x + 3*y )\n",
    "@constraint(m, 1x + 5y <= 3.0 )\n",
    "\n",
    "print(m)\n",
    "\n",
    "status = solve(m)\n",
    "\n",
    "println(\"Objective value: \", getobjectivevalue(m))\n",
    "println(\"x = \", getvalue(x))\n",
    "println(\"y = \", getvalue(y))"
   ]
  },
  {
   "cell_type": "code",
   "execution_count": null,
   "metadata": {
    "collapsed": false,
    "deletable": true,
    "editable": true
   },
   "outputs": [],
   "source": [
    "n=3\n",
    "W=zeros(Int,n,n)\n",
    "for row in 1:n,col in 1:n\n",
    "    W[row,col] = (row-1)*n+col\n",
    "end\n",
    "println(W)\n",
    "\n"
   ]
  },
  {
   "cell_type": "code",
   "execution_count": null,
   "metadata": {
    "collapsed": false,
    "deletable": true,
    "editable": true
   },
   "outputs": [],
   "source": [
    "println(abs(-1))"
   ]
  },
  {
   "cell_type": "code",
   "execution_count": 6,
   "metadata": {
    "collapsed": false,
    "deletable": true,
    "editable": true
   },
   "outputs": [
    {
     "name": "stdout",
     "output_type": "stream",
     "text": [
      "Solution: \n",
      "[3,1,6,5,4,2,3]\n"
     ]
    },
    {
     "name": "stderr",
     "output_type": "stream",
     "text": [
      "WARNING: Method definition extractTour(Any, Any, Any) in module Main at In[4]:15 overwritten at In[6]:15.\n",
      "WARNING: Method definition solveTSP(Any, Any) in module Main at In[4]:49 overwritten at In[6]:49.\n"
     ]
    }
   ],
   "source": [
    "using JuMP\n",
    "# using Gurobi\n",
    "using GLPK\n",
    "using GLPKMathProgInterface\n",
    "\n",
    "\n",
    "# Given a n-by-n matrix representing the solution to an undirected TSP,\n",
    "# extract the tour as a vector\n",
    "# Input:\n",
    "#  n        Number of cities\n",
    "#  sol      n-by-n 0-1 symmetric matrix representing solution\n",
    "# Output:\n",
    "#  tour     n+1 length vector of tour, starting and ending at 1\n",
    "function extractTour(n, sol,origin)\n",
    "    tour = [origin]  # Start at city 1 always\n",
    "    cur_city = origin\n",
    "    while true\n",
    "        # Look for first arc out of current city\n",
    "        for j = 1:n\n",
    "            if sol[cur_city,j] >= 1-1e-6\n",
    "                # Found next city\n",
    "                push!(tour, j)\n",
    "                # Don't ever use this arc again\n",
    "                sol[cur_city, j] = 0.0\n",
    "                sol[j, cur_city] = 0.0\n",
    "                # Move to next city\n",
    "                cur_city = j\n",
    "                break\n",
    "            end\n",
    "        end\n",
    "        # If we have come back to 1, stop\n",
    "        if cur_city == origin\n",
    "            break\n",
    "        end\n",
    "    end  # end while\n",
    "    return tour\n",
    "end\n",
    "\n",
    "# solveTSP\n",
    "# Given a matrix of city locations, solve the TSP\n",
    "# Inputs:\n",
    "#   n       Number of cities\n",
    "#   cities  n-by-2 matrix of (x,y) city locations\n",
    "# Output:\n",
    "#   path    Vector with order to cities are visited in\n",
    "function solveTSP(n, cities)\n",
    "\n",
    "    # Calculate pairwise distance matrix\n",
    "    dist = zeros(n, n)\n",
    "    for i = 1:n\n",
    "        for j = i:n\n",
    "            d = norm(cities[i,1:2] - cities[j,1:2])\n",
    "            dist[i,j] = d\n",
    "            dist[j,i] = d\n",
    "        end\n",
    "    end\n",
    "\n",
    "    # Create a model that will use Gurobi to solve\n",
    "    m = Model(solver=GLPKSolverMIP())\n",
    "\n",
    "    # x[i,j] is 1 iff we travel between i and j, 0 otherwise\n",
    "    # Although we define all n^2 variables, we will only use\n",
    "    # the upper triangle\n",
    "    @variable(m, x[1:n,1:n], Bin)\n",
    "\n",
    "    # Minimize length of tour\n",
    "    @objective(m, Min, sum(dist[i,j]*x[i,j] for i=1:n for j=i:n))\n",
    "\n",
    "    # Make x_ij and x_ji be the same thing (undirectional)\n",
    "    # Don't allow self-arcs\n",
    "    for i = 1:n\n",
    "        @constraint(m, x[i,i] == 0)\n",
    "        for j = (i+1):n\n",
    "            @constraint(m, x[i,j] == x[j,i])\n",
    "        end\n",
    "    end\n",
    "\n",
    "    # We must enter and leave every city once and only once\n",
    "    for i = 1:n\n",
    "        @constraint(m, sum(x[i,j] for j=1:n) == 2)\n",
    "    end\n",
    "\n",
    "    \n",
    "    solve(m)\n",
    "\n",
    "    # Return best tour\n",
    "    # return extractTour(n, getvalue(x))\n",
    "    return x\n",
    "end  # end solveTSP\n",
    "\n",
    "\n",
    "# Create a simple instance that looks like\n",
    "#       +           +\n",
    "#   +                   +\n",
    "#       +           +\n",
    "# The optimal tour is obvious, but the initial solution will be\n",
    "#    /--+           +--\\\n",
    "#   +               |   +\n",
    "#    \\--+           +--/\n",
    "n = 6\n",
    "cities = [ 50 2000000000;\n",
    "                    100 100;\n",
    "                    100 300;\n",
    "                    500 100;\n",
    "                    500 300;\n",
    "                    550 200000000]\n",
    "tour = solveTSP(n, cities)\n",
    "println(\"Solution: \")\n",
    "println(extractTour(n, getvalue(tour),3))"
   ]
  },
  {
   "cell_type": "code",
   "execution_count": 7,
   "metadata": {
    "collapsed": false,
    "deletable": true,
    "editable": true
   },
   "outputs": [
    {
     "name": "stdout",
     "output_type": "stream",
     "text": [
      "[1,3,2,4,5,6,1]\n",
      "[3,1,6,5,4,2,3]\n",
      "[6,1,3,2,4,5,6]\n"
     ]
    }
   ],
   "source": [
    "println(extractTour(n, getvalue(tour),1))\n",
    "println(extractTour(n, getvalue(tour),3))\n",
    "println(extractTour(n, getvalue(tour),6))\n"
   ]
  },
  {
   "cell_type": "code",
   "execution_count": null,
   "metadata": {
    "collapsed": true,
    "deletable": true,
    "editable": true
   },
   "outputs": [],
   "source": []
  },
  {
   "cell_type": "code",
   "execution_count": null,
   "metadata": {
    "collapsed": true,
    "deletable": true,
    "editable": true
   },
   "outputs": [],
   "source": []
  }
 ],
 "metadata": {
  "kernelspec": {
   "display_name": "Julia 0.5.1",
   "language": "julia",
   "name": "julia-0.5"
  },
  "language_info": {
   "file_extension": ".jl",
   "mimetype": "application/julia",
   "name": "julia",
   "version": "0.5.1"
  }
 },
 "nbformat": 4,
 "nbformat_minor": 2
}
